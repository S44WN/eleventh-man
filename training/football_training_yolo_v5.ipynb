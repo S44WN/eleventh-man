{
 "cells": [
  {
   "cell_type": "code",
   "execution_count": 1,
   "id": "e1432a51",
   "metadata": {},
   "outputs": [
    {
     "name": "stdout",
     "output_type": "stream",
     "text": [
      "Collecting roboflow\n",
      "  Downloading roboflow-1.2.9-py3-none-any.whl.metadata (9.7 kB)\n",
      "Requirement already satisfied: certifi in c:\\users\\itiss\\appdata\\local\\programs\\python\\python313\\lib\\site-packages (from roboflow) (2025.8.3)\n",
      "Collecting idna==3.7 (from roboflow)\n",
      "  Downloading idna-3.7-py3-none-any.whl.metadata (9.9 kB)\n",
      "Requirement already satisfied: cycler in c:\\users\\itiss\\appdata\\local\\programs\\python\\python313\\lib\\site-packages (from roboflow) (0.12.1)\n",
      "Requirement already satisfied: kiwisolver>=1.3.1 in c:\\users\\itiss\\appdata\\local\\programs\\python\\python313\\lib\\site-packages (from roboflow) (1.4.9)\n",
      "Requirement already satisfied: matplotlib in c:\\users\\itiss\\appdata\\local\\programs\\python\\python313\\lib\\site-packages (from roboflow) (3.10.6)\n",
      "Requirement already satisfied: numpy>=1.18.5 in c:\\users\\itiss\\appdata\\local\\programs\\python\\python313\\lib\\site-packages (from roboflow) (2.2.6)\n",
      "Collecting opencv-python-headless==4.10.0.84 (from roboflow)\n",
      "  Downloading opencv_python_headless-4.10.0.84-cp37-abi3-win_amd64.whl.metadata (20 kB)\n",
      "Requirement already satisfied: Pillow>=7.1.2 in c:\\users\\itiss\\appdata\\local\\programs\\python\\python313\\lib\\site-packages (from roboflow) (11.3.0)\n",
      "Collecting pi-heif<2 (from roboflow)\n",
      "  Downloading pi_heif-1.1.0-cp313-cp313-win_amd64.whl.metadata (6.7 kB)\n",
      "Collecting pillow-avif-plugin<2 (from roboflow)\n",
      "  Downloading pillow_avif_plugin-1.5.2-cp313-cp313-win_amd64.whl.metadata (2.2 kB)\n",
      "Requirement already satisfied: python-dateutil in c:\\users\\itiss\\appdata\\local\\programs\\python\\python313\\lib\\site-packages (from roboflow) (2.9.0.post0)\n",
      "Collecting python-dotenv (from roboflow)\n",
      "  Downloading python_dotenv-1.1.1-py3-none-any.whl.metadata (24 kB)\n",
      "Requirement already satisfied: requests in c:\\users\\itiss\\appdata\\local\\programs\\python\\python313\\lib\\site-packages (from roboflow) (2.32.5)\n",
      "Requirement already satisfied: six in c:\\users\\itiss\\appdata\\local\\programs\\python\\python313\\lib\\site-packages (from roboflow) (1.17.0)\n",
      "Requirement already satisfied: urllib3>=1.26.6 in c:\\users\\itiss\\appdata\\local\\programs\\python\\python313\\lib\\site-packages (from roboflow) (2.5.0)\n",
      "Collecting tqdm>=4.41.0 (from roboflow)\n",
      "  Downloading tqdm-4.67.1-py3-none-any.whl.metadata (57 kB)\n",
      "Requirement already satisfied: PyYAML>=5.3.1 in c:\\users\\itiss\\appdata\\local\\programs\\python\\python313\\lib\\site-packages (from roboflow) (6.0.2)\n",
      "Collecting requests-toolbelt (from roboflow)\n",
      "  Downloading requests_toolbelt-1.0.0-py2.py3-none-any.whl.metadata (14 kB)\n",
      "Collecting filetype (from roboflow)\n",
      "  Downloading filetype-1.2.0-py2.py3-none-any.whl.metadata (6.5 kB)\n",
      "Requirement already satisfied: colorama in c:\\users\\itiss\\appdata\\roaming\\python\\python313\\site-packages (from tqdm>=4.41.0->roboflow) (0.4.6)\n",
      "Requirement already satisfied: contourpy>=1.0.1 in c:\\users\\itiss\\appdata\\local\\programs\\python\\python313\\lib\\site-packages (from matplotlib->roboflow) (1.3.3)\n",
      "Requirement already satisfied: fonttools>=4.22.0 in c:\\users\\itiss\\appdata\\local\\programs\\python\\python313\\lib\\site-packages (from matplotlib->roboflow) (4.60.0)\n",
      "Requirement already satisfied: packaging>=20.0 in c:\\users\\itiss\\appdata\\local\\programs\\python\\python313\\lib\\site-packages (from matplotlib->roboflow) (25.0)\n",
      "Requirement already satisfied: pyparsing>=2.3.1 in c:\\users\\itiss\\appdata\\local\\programs\\python\\python313\\lib\\site-packages (from matplotlib->roboflow) (3.2.5)\n",
      "Requirement already satisfied: charset_normalizer<4,>=2 in c:\\users\\itiss\\appdata\\local\\programs\\python\\python313\\lib\\site-packages (from requests->roboflow) (3.4.3)\n",
      "Downloading roboflow-1.2.9-py3-none-any.whl (88 kB)\n",
      "Downloading idna-3.7-py3-none-any.whl (66 kB)\n",
      "Downloading opencv_python_headless-4.10.0.84-cp37-abi3-win_amd64.whl (38.8 MB)\n",
      "   ---------------------------------------- 0.0/38.8 MB ? eta -:--:--\n",
      "    --------------------------------------- 0.5/38.8 MB 2.2 MB/s eta 0:00:18\n",
      "   - -------------------------------------- 1.6/38.8 MB 3.8 MB/s eta 0:00:10\n",
      "   -- ------------------------------------- 2.9/38.8 MB 4.6 MB/s eta 0:00:08\n",
      "   ---- ----------------------------------- 3.9/38.8 MB 4.8 MB/s eta 0:00:08\n",
      "   ----- ---------------------------------- 5.2/38.8 MB 5.0 MB/s eta 0:00:07\n",
      "   ------ --------------------------------- 6.3/38.8 MB 5.1 MB/s eta 0:00:07\n",
      "   ------- -------------------------------- 7.3/38.8 MB 5.1 MB/s eta 0:00:07\n",
      "   -------- ------------------------------- 8.7/38.8 MB 5.2 MB/s eta 0:00:06\n",
      "   ---------- ----------------------------- 9.7/38.8 MB 5.2 MB/s eta 0:00:06\n",
      "   ----------- ---------------------------- 10.7/38.8 MB 5.1 MB/s eta 0:00:06\n",
      "   ------------ --------------------------- 11.8/38.8 MB 5.2 MB/s eta 0:00:06\n",
      "   ------------- -------------------------- 13.1/38.8 MB 5.2 MB/s eta 0:00:05\n",
      "   -------------- ------------------------- 14.2/38.8 MB 5.2 MB/s eta 0:00:05\n",
      "   --------------- ------------------------ 15.2/38.8 MB 5.2 MB/s eta 0:00:05\n",
      "   ---------------- ----------------------- 16.3/38.8 MB 5.2 MB/s eta 0:00:05\n",
      "   ------------------ --------------------- 17.6/38.8 MB 5.3 MB/s eta 0:00:05\n",
      "   ------------------- -------------------- 18.6/38.8 MB 5.3 MB/s eta 0:00:04\n",
      "   -------------------- ------------------- 19.9/38.8 MB 5.3 MB/s eta 0:00:04\n",
      "   --------------------- ------------------ 21.0/38.8 MB 5.3 MB/s eta 0:00:04\n",
      "   ---------------------- ----------------- 22.0/38.8 MB 5.3 MB/s eta 0:00:04\n",
      "   ----------------------- ---------------- 23.1/38.8 MB 5.3 MB/s eta 0:00:03\n",
      "   ------------------------ --------------- 24.1/38.8 MB 5.3 MB/s eta 0:00:03\n",
      "   -------------------------- ------------- 25.4/38.8 MB 5.3 MB/s eta 0:00:03\n",
      "   --------------------------- ------------ 26.5/38.8 MB 5.3 MB/s eta 0:00:03\n",
      "   ---------------------------- ----------- 27.8/38.8 MB 5.3 MB/s eta 0:00:03\n",
      "   ----------------------------- ---------- 28.8/38.8 MB 5.3 MB/s eta 0:00:02\n",
      "   ------------------------------ --------- 29.9/38.8 MB 5.3 MB/s eta 0:00:02\n",
      "   ------------------------------- -------- 30.9/38.8 MB 5.3 MB/s eta 0:00:02\n",
      "   --------------------------------- ------ 32.2/38.8 MB 5.3 MB/s eta 0:00:02\n",
      "   ---------------------------------- ----- 33.3/38.8 MB 5.3 MB/s eta 0:00:02\n",
      "   ----------------------------------- ---- 34.6/38.8 MB 5.3 MB/s eta 0:00:01\n",
      "   ------------------------------------ --- 35.7/38.8 MB 5.3 MB/s eta 0:00:01\n",
      "   ------------------------------------- -- 36.7/38.8 MB 5.4 MB/s eta 0:00:01\n",
      "   -------------------------------------- - 37.7/38.8 MB 5.4 MB/s eta 0:00:01\n",
      "   ---------------------------------------- 38.8/38.8 MB 5.3 MB/s  0:00:07\n",
      "Downloading pi_heif-1.1.0-cp313-cp313-win_amd64.whl (1.9 MB)\n",
      "   ---------------------------------------- 0.0/1.9 MB ? eta -:--:--\n",
      "   ---------------------- ----------------- 1.0/1.9 MB 5.5 MB/s eta 0:00:01\n",
      "   ---------------------------------------- 1.9/1.9 MB 5.3 MB/s  0:00:00\n",
      "Downloading pillow_avif_plugin-1.5.2-cp313-cp313-win_amd64.whl (9.9 MB)\n",
      "   ---------------------------------------- 0.0/9.9 MB ? eta -:--:--\n",
      "   ---- ----------------------------------- 1.0/9.9 MB 5.6 MB/s eta 0:00:02\n",
      "   -------- ------------------------------- 2.1/9.9 MB 5.5 MB/s eta 0:00:02\n",
      "   ------------ --------------------------- 3.1/9.9 MB 5.4 MB/s eta 0:00:02\n",
      "   ------------------ --------------------- 4.5/9.9 MB 5.5 MB/s eta 0:00:01\n",
      "   ---------------------- ----------------- 5.5/9.9 MB 5.5 MB/s eta 0:00:01\n",
      "   -------------------------- ------------- 6.6/9.9 MB 5.5 MB/s eta 0:00:01\n",
      "   ------------------------------- -------- 7.9/9.9 MB 5.5 MB/s eta 0:00:01\n",
      "   ------------------------------------ --- 8.9/9.9 MB 5.4 MB/s eta 0:00:01\n",
      "   ---------------------------------------- 9.9/9.9 MB 5.4 MB/s  0:00:01\n",
      "Downloading tqdm-4.67.1-py3-none-any.whl (78 kB)\n",
      "Downloading filetype-1.2.0-py2.py3-none-any.whl (19 kB)\n",
      "Downloading python_dotenv-1.1.1-py3-none-any.whl (20 kB)\n",
      "Downloading requests_toolbelt-1.0.0-py2.py3-none-any.whl (54 kB)\n",
      "Installing collected packages: pillow-avif-plugin, filetype, tqdm, python-dotenv, pi-heif, opencv-python-headless, idna, requests-toolbelt, roboflow\n",
      "\n",
      "   ---- ----------------------------------- 1/9 [filetype]\n",
      "   ---- ----------------------------------- 1/9 [filetype]\n",
      "   -------- ------------------------------- 2/9 [tqdm]\n",
      "   -------- ------------------------------- 2/9 [tqdm]\n",
      "   -------- ------------------------------- 2/9 [tqdm]\n",
      "   ------------- -------------------------- 3/9 [python-dotenv]\n",
      "   ----------------- ---------------------- 4/9 [pi-heif]\n",
      "   ---------------------- ----------------- 5/9 [opencv-python-headless]\n",
      "   ---------------------- ----------------- 5/9 [opencv-python-headless]\n",
      "   ---------------------- ----------------- 5/9 [opencv-python-headless]\n",
      "   ---------------------- ----------------- 5/9 [opencv-python-headless]\n",
      "   ---------------------- ----------------- 5/9 [opencv-python-headless]\n",
      "  Attempting uninstall: idna\n",
      "   ---------------------- ----------------- 5/9 [opencv-python-headless]\n",
      "    Found existing installation: idna 3.10\n",
      "   ---------------------- ----------------- 5/9 [opencv-python-headless]\n",
      "    Uninstalling idna-3.10:\n",
      "   ---------------------- ----------------- 5/9 [opencv-python-headless]\n",
      "      Successfully uninstalled idna-3.10\n",
      "   ---------------------- ----------------- 5/9 [opencv-python-headless]\n",
      "   -------------------------- ------------- 6/9 [idna]\n",
      "   ------------------------------- -------- 7/9 [requests-toolbelt]\n",
      "   ------------------------------- -------- 7/9 [requests-toolbelt]\n",
      "   ------------------------------- -------- 7/9 [requests-toolbelt]\n",
      "   ----------------------------------- ---- 8/9 [roboflow]\n",
      "   ----------------------------------- ---- 8/9 [roboflow]\n",
      "   ----------------------------------- ---- 8/9 [roboflow]\n",
      "   ---------------------------------------- 9/9 [roboflow]\n",
      "\n",
      "Successfully installed filetype-1.2.0 idna-3.7 opencv-python-headless-4.10.0.84 pi-heif-1.1.0 pillow-avif-plugin-1.5.2 python-dotenv-1.1.1 requests-toolbelt-1.0.0 roboflow-1.2.9 tqdm-4.67.1\n"
     ]
    }
   ],
   "source": [
    "#!pip install ultralytics\n",
    "!pip install roboflow"
   ]
  },
  {
   "cell_type": "markdown",
   "id": "e7b8bd51",
   "metadata": {},
   "source": [
    "# Get Dataset"
   ]
  },
  {
   "cell_type": "code",
   "execution_count": 2,
   "id": "f6b715a8",
   "metadata": {},
   "outputs": [
    {
     "name": "stdout",
     "output_type": "stream",
     "text": [
      "loading Roboflow workspace...\n",
      "loading Roboflow project...\n"
     ]
    },
    {
     "name": "stderr",
     "output_type": "stream",
     "text": [
      "Downloading Dataset Version Zip in football-players-detection-1 to yolov5pytorch:: 100%|██████████| 148663/148663 [00:36<00:00, 4045.94it/s]"
     ]
    },
    {
     "name": "stdout",
     "output_type": "stream",
     "text": [
      "\n"
     ]
    },
    {
     "name": "stderr",
     "output_type": "stream",
     "text": [
      "\n",
      "Extracting Dataset Version Zip to football-players-detection-1 in yolov5pytorch:: 100%|██████████| 1338/1338 [00:00<00:00, 1567.11it/s]\n"
     ]
    }
   ],
   "source": [
    "from roboflow import Roboflow\n",
    "rf = Roboflow(api_key=\"UrSevKofyWNNTQROjuF8\")\n",
    "project = rf.workspace(\"roboflow-jvuqo\").project(\"football-players-detection-3zvbc\")\n",
    "version = project.version(1)\n",
    "dataset = version.download(\"yolov5\")"
   ]
  },
  {
   "cell_type": "code",
   "execution_count": 3,
   "id": "466627bb",
   "metadata": {},
   "outputs": [
    {
     "data": {
      "text/plain": [
       "'d:\\\\projects\\\\eleventh-man\\\\training\\\\football-players-detection-1'"
      ]
     },
     "execution_count": 3,
     "metadata": {},
     "output_type": "execute_result"
    }
   ],
   "source": [
    "dataset.location"
   ]
  },
  {
   "cell_type": "code",
   "execution_count": 4,
   "id": "5ed27a42",
   "metadata": {},
   "outputs": [
    {
     "data": {
      "text/plain": [
       "'football-players-detection-1/football-players-detection-1/test'"
      ]
     },
     "execution_count": 4,
     "metadata": {},
     "output_type": "execute_result"
    }
   ],
   "source": [
    "import shutil\n",
    "\n",
    "shutil.move(\"football-players-detection-1/train\", \"football-players-detection-1/football-players-detection-1/train\")\n",
    "\n",
    "shutil.move(\"football-players-detection-1/valid\", \"football-players-detection-1/football-players-detection-1/valid\")\n",
    "\n",
    "shutil.move(\"football-players-detection-1/test\", \"football-players-detection-1/football-players-detection-1/test\")"
   ]
  }
 ],
 "metadata": {
  "kernelspec": {
   "display_name": "Python 3",
   "language": "python",
   "name": "python3"
  },
  "language_info": {
   "codemirror_mode": {
    "name": "ipython",
    "version": 3
   },
   "file_extension": ".py",
   "mimetype": "text/x-python",
   "name": "python",
   "nbconvert_exporter": "python",
   "pygments_lexer": "ipython3",
   "version": "3.13.5"
  }
 },
 "nbformat": 4,
 "nbformat_minor": 5
}
